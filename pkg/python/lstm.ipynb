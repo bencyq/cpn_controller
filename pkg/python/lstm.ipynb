{
 "cells": [
  {
   "cell_type": "code",
   "execution_count": null,
   "metadata": {},
   "outputs": [],
   "source": [
    "test_time = 202503100455  # 应该转换为2025-03-10 04:55:00\n",
    "print(\"时间转换测试:\", convert_time(test_time))"
   ]
  }
 ],
 "metadata": {
  "language_info": {
   "name": "python"
  }
 },
 "nbformat": 4,
 "nbformat_minor": 2
}
