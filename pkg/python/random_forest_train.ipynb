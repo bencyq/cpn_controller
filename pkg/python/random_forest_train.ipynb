{
 "cells": [
  {
   "cell_type": "code",
   "execution_count": 2,
   "metadata": {},
   "outputs": [
    {
     "name": "stdout",
     "output_type": "stream",
     "text": [
      "INFO: random forest model loaded\n"
     ]
    }
   ],
   "source": [
    "from copy import deepcopy\n",
    "import copy\n",
    "import os\n",
    "import random\n",
    "import sys\n",
    "import numpy as np\n",
    "import pandas as pd\n",
    "from sklearn.ensemble import RandomForestRegressor\n",
    "from sklearn.metrics import r2_score\n",
    "import time\n",
    "import pickle\n",
    "\n",
    "from sympy import O\n",
    "from tables import test\n",
    "sys.path.append(os.path.dirname(os.getcwd()))\n",
    "from socket_server import get_project_root"
   ]
  },
  {
   "cell_type": "code",
   "execution_count": 3,
   "metadata": {},
   "outputs": [],
   "source": [
    "# 读取训练和测试数据\n",
    "root = get_project_root()\n",
    "train_data = pd.read_csv(root+'/pkg/python/'+'train.csv') \n",
    "test_data = pd.read_csv(root+'/pkg/python/'+'test.csv')  "
   ]
  },
  {
   "cell_type": "code",
   "execution_count": 4,
   "metadata": {},
   "outputs": [
    {
     "name": "stdout",
     "output_type": "stream",
     "text": [
      "存在缺失值，开始处理...\n",
      "缺失值已处理，删除包含缺失值的行。\n"
     ]
    }
   ],
   "source": [
    "# 检查并处理缺失值\n",
    "if train_data.isnull().sum().any() or test_data.isnull().sum().any():\n",
    "    print(\"存在缺失值，开始处理...\")\n",
    "    train_data = train_data.dropna()\n",
    "    test_data = test_data.dropna()\n",
    "    print(\"缺失值已处理，删除包含缺失值的行。\")"
   ]
  },
  {
   "cell_type": "code",
   "execution_count": 9,
   "metadata": {},
   "outputs": [],
   "source": [
    "train_data_keys=train_data.keys()\n",
    "test_data_keys=test_data.keys()\n",
    "train_data=train_data.values\n",
    "test_data=test_data.values"
   ]
  },
  {
   "cell_type": "code",
   "execution_count": 19,
   "metadata": {},
   "outputs": [],
   "source": [
    "import itertools\n",
    "def my_shuffle(data:list):\n",
    "    \n",
    "    original_list = [0, 1, 2]\n",
    "    permutations = list(itertools.permutations(original_list))\n",
    "    new_data=np.empty((0,9))\n",
    "    for ele in data:\n",
    "        for p in permutations:\n",
    "            tmp=copy.deepcopy(ele)\n",
    "            tmp[0],tmp[6]=ele[p[0]],ele[p[0]+6]\n",
    "            tmp[1],tmp[7]=ele[p[1]],ele[p[1]+6]\n",
    "            tmp[2],tmp[8]=ele[p[2]],ele[p[2]+6]\n",
    "            tmp = tmp.reshape(1, -1)\n",
    "            new_data=np.concatenate((new_data,tmp),axis=0)\n",
    "    return np.concatenate((data, new_data), axis=0)"
   ]
  },
  {
   "cell_type": "code",
   "execution_count": 11,
   "metadata": {},
   "outputs": [],
   "source": [
    "train_data=my_shuffle(train_data)\n",
    "test_data=my_shuffle(test_data)\n",
    "len(train_data)"
   ]
  },
  {
   "cell_type": "code",
   "execution_count": 14,
   "metadata": {},
   "outputs": [],
   "source": [
    "reconstructed_df1 = pd.DataFrame(data=train_data, columns=train_data_keys)\n",
    "reconstructed_df2 = pd.DataFrame(data=test_data, columns=test_data_keys)"
   ]
  },
  {
   "cell_type": "code",
   "execution_count": 15,
   "metadata": {},
   "outputs": [],
   "source": [
    "reconstructed_df1.to_csv(root+'/pkg/python/'+'recovered_train1.csv', index=False)\n",
    "reconstructed_df2.to_csv(root+'/pkg/python/'+'recovered_train2.csv', index=False)"
   ]
  },
  {
   "cell_type": "code",
   "execution_count": 16,
   "metadata": {},
   "outputs": [
    {
     "name": "stdout",
     "output_type": "stream",
     "text": [
      "共生成 6 种排列:\n",
      "(0, 1, 2)\n",
      "(0, 2, 1)\n",
      "(1, 0, 2)\n",
      "(1, 2, 0)\n",
      "(2, 0, 1)\n",
      "(2, 1, 0)\n"
     ]
    }
   ],
   "source": [
    "import itertools\n",
    "\n",
    "original_list = [0, 1, 2]\n",
    "permutations = list(itertools.permutations(original_list))\n",
    "\n",
    "print(f\"共生成 {len(permutations)} 种排列:\")\n",
    "for p in permutations:\n",
    "    print(p)"
   ]
  }
 ],
 "metadata": {
  "kernelspec": {
   "display_name": "base",
   "language": "python",
   "name": "python3"
  },
  "language_info": {
   "codemirror_mode": {
    "name": "ipython",
    "version": 3
   },
   "file_extension": ".py",
   "mimetype": "text/x-python",
   "name": "python",
   "nbconvert_exporter": "python",
   "pygments_lexer": "ipython3",
   "version": "3.12.7"
  }
 },
 "nbformat": 4,
 "nbformat_minor": 2
}
